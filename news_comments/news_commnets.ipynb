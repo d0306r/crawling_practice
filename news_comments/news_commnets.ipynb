{
 "cells": [
  {
   "cell_type": "code",
   "execution_count": 189,
   "metadata": {},
   "outputs": [],
   "source": [
    "import pandas as pd\n",
    "import requests\n",
    "from bs4 import BeautifulSoup \n",
    "import re\n",
    "from datetime import datetime\n",
    "import os\n",
    "from selenium import webdriver\n",
    "import time\n",
    "from selenium.webdriver.common.by import By\n",
    "from selenium.webdriver.chrome.service import Service\n",
    "from webdriver_manager.chrome import ChromeDriverManager"
   ]
  },
  {
   "cell_type": "code",
   "execution_count": 190,
   "metadata": {},
   "outputs": [],
   "source": [
    "headers = {'user-agent' : 'Mozilla/5.0 (Windows NT 10.0; Win64; x64) AppleWebKit/537.36 (KHTML, like Gecko) Chrome/112.0.0.0 Safari/537.36'}"
   ]
  },
  {
   "attachments": {},
   "cell_type": "markdown",
   "metadata": {},
   "source": [
    "## 변수 설정"
   ]
  },
  {
   "cell_type": "code",
   "execution_count": 191,
   "metadata": {},
   "outputs": [],
   "source": [
    "query = input(\"검색어를 입력하세요 : \")\n",
    "news_num = int(input(\"크롤링할 기사 개수를 입력하세요 : \"))"
   ]
  },
  {
   "cell_type": "code",
   "execution_count": 192,
   "metadata": {},
   "outputs": [
    {
     "name": "stdout",
     "output_type": "stream",
     "text": [
      "코로나 , 5\n"
     ]
    }
   ],
   "source": [
    "print(query, ',' ,news_num)"
   ]
  },
  {
   "attachments": {},
   "cell_type": "markdown",
   "metadata": {},
   "source": [
    "## 페이지 읽어오기"
   ]
  },
  {
   "cell_type": "code",
   "execution_count": 193,
   "metadata": {},
   "outputs": [],
   "source": [
    "base_url = f'https://search.naver.com/search.naver?where=news&sm=tab_jum&query={query}'"
   ]
  },
  {
   "cell_type": "code",
   "execution_count": 194,
   "metadata": {},
   "outputs": [],
   "source": [
    "news_dict = {}\n",
    "idx = 0\n",
    "page = 1\n",
    "tmp = {}"
   ]
  },
  {
   "cell_type": "code",
   "execution_count": 195,
   "metadata": {},
   "outputs": [
    {
     "name": "stdout",
     "output_type": "stream",
     "text": [
      "기사 수집 중입니다.\n",
      "크롤링이 완료되었습니다.\n"
     ]
    }
   ],
   "source": [
    "print('기사 수집 중입니다.')\n",
    "while idx < news_num :   \n",
    "    \n",
    "    response = requests.get(base_url)\n",
    "    html = response.text\n",
    "    soup = BeautifulSoup(html, 'html.parser')\n",
    "    news_list = soup.select('div.news_area')\n",
    "    next_page = soup.select('div.sc_page_inner > a.btn')\n",
    "\n",
    "    for news in news_list :\n",
    "        if news.select('a.info')[-1].text == '네이버뉴스' :\n",
    "            link = news.select('a.info')[-1]['href']\n",
    "            driver = webdriver.Chrome('chromedriver.exe')\n",
    "            driver.get(link)\n",
    "\n",
    "            while True :\n",
    "                time.sleep(1.5)\n",
    "                try : \n",
    "                    contents = []\n",
    "                    driver.find_element(By.XPATH, './/*[@id=\"cbox_module\"]/div[2]/div[9]/a/span[1]').click()\n",
    "                    html2 = driver.page_source\n",
    "                    soup2 = BeautifulSoup(html2, 'lxml')\n",
    "\n",
    "                    title = news.select_one('a.news_tit').text\n",
    "                    text = news.select_one('a.api_txt_lines.dsc_txt_wrap').text\n",
    "                    comment_list = soup2.find_all(\"span\", {'class' : \"u_cbox_contents\"})\n",
    "\n",
    "                    for comment in comment_list :\n",
    "                        comment = comment.text\n",
    "                        contents.append(comment)\n",
    "\n",
    "                    news_dict[idx] = {'제목' : title, '링크' : link, '본문 요약' : text, '댓글' : contents}\n",
    "                    idx += 1\n",
    "\n",
    "                except :\n",
    "                    break\n",
    "                \n",
    "        else :\n",
    "            tmp[idx] = {'제목' : title, '링크' : link, '본문 요약' : text}\n",
    "\n",
    "    page += 1\n",
    "    \n",
    "    for p in next_page :\n",
    "        if p.text == str(page) :\n",
    "            news_url = f'https://search.naver.com/search.naver' + p['href']\n",
    "\n",
    "print('크롤링이 완료되었습니다.')"
   ]
  },
  {
   "cell_type": "code",
   "execution_count": 196,
   "metadata": {},
   "outputs": [
    {
     "data": {
      "text/html": [
       "<div>\n",
       "<style scoped>\n",
       "    .dataframe tbody tr th:only-of-type {\n",
       "        vertical-align: middle;\n",
       "    }\n",
       "\n",
       "    .dataframe tbody tr th {\n",
       "        vertical-align: top;\n",
       "    }\n",
       "\n",
       "    .dataframe thead th {\n",
       "        text-align: right;\n",
       "    }\n",
       "</style>\n",
       "<table border=\"1\" class=\"dataframe\">\n",
       "  <thead>\n",
       "    <tr style=\"text-align: right;\">\n",
       "      <th></th>\n",
       "      <th>제목</th>\n",
       "      <th>링크</th>\n",
       "      <th>본문 요약</th>\n",
       "      <th>댓글</th>\n",
       "    </tr>\n",
       "  </thead>\n",
       "  <tbody>\n",
       "    <tr>\n",
       "      <th>0</th>\n",
       "      <td>곧 5월인데 독감·감기 동시 유행…코로나 환자도 늘어</td>\n",
       "      <td>https://n.news.naver.com/mnews/article/277/000...</td>\n",
       "      <td>특히 코로나19 시대 마스크 착용으로 각종 호흡기 바이러스에 대한 면역이 떨어진 영...</td>\n",
       "      <td>[]</td>\n",
       "    </tr>\n",
       "    <tr>\n",
       "      <th>1</th>\n",
       "      <td>봄철 독감 유행 · 감기 환자도↑…코로나19 방역 완화 영향</td>\n",
       "      <td>https://n.news.naver.com/mnews/article/055/000...</td>\n",
       "      <td>감기 환자도 계속 늘고 있는데, 방역 당국은 코로나19 방역 조치가 완화된 영향으로...</td>\n",
       "      <td>[]</td>\n",
       "    </tr>\n",
       "    <tr>\n",
       "      <th>2</th>\n",
       "      <td>눈병인 줄 알았더니 코로나라고?…새 변이가 무서운 이유</td>\n",
       "      <td>https://n.news.naver.com/mnews/article/015/000...</td>\n",
       "      <td>기존 코로나19 오미크론 하위 변이보다 전염성이 강한 새로운 오미크론 하위 변이가 ...</td>\n",
       "      <td>[]</td>\n",
       "    </tr>\n",
       "    <tr>\n",
       "      <th>3</th>\n",
       "      <td>눈병인 줄 알았더니 코로나라고?…새 변이가 무서운 이유</td>\n",
       "      <td>https://n.news.naver.com/mnews/article/015/000...</td>\n",
       "      <td>기존 코로나19 오미크론 하위 변이보다 전염성이 강한 새로운 오미크론 하위 변이가 ...</td>\n",
       "      <td>[목에 칼이 들어와도 백신은 사양합니다~~, 요즘도 코로나로 겁주는 기자가 존재하는...</td>\n",
       "    </tr>\n",
       "    <tr>\n",
       "      <th>4</th>\n",
       "      <td>눈병인 줄 알았더니 코로나라고?…새 변이가 무서운 이유</td>\n",
       "      <td>https://n.news.naver.com/mnews/article/015/000...</td>\n",
       "      <td>기존 코로나19 오미크론 하위 변이보다 전염성이 강한 새로운 오미크론 하위 변이가 ...</td>\n",
       "      <td>[목에 칼이 들어와도 백신은 사양합니다~~, 요즘도 코로나로 겁주는 기자가 존재하는...</td>\n",
       "    </tr>\n",
       "    <tr>\n",
       "      <th>...</th>\n",
       "      <td>...</td>\n",
       "      <td>...</td>\n",
       "      <td>...</td>\n",
       "      <td>...</td>\n",
       "    </tr>\n",
       "    <tr>\n",
       "      <th>58</th>\n",
       "      <td>복통 치료 쓰던 한약재 ‘초두구’, 코로나19 치료 효과 확인</td>\n",
       "      <td>https://n.news.naver.com/mnews/article/366/000...</td>\n",
       "      <td>권선오 한의학연 책임연구원 연구팀 한의학에서 가슴이나 배 통증, 구토와 같은 증상을...</td>\n",
       "      <td>[예전엔 지식인들만 글을 썼는데, 이젠 하층민들이 자신이 지식인인 줄 알고 글을 쓴...</td>\n",
       "    </tr>\n",
       "    <tr>\n",
       "      <th>59</th>\n",
       "      <td>복통 치료 쓰던 한약재 ‘초두구’, 코로나19 치료 효과 확인</td>\n",
       "      <td>https://n.news.naver.com/mnews/article/366/000...</td>\n",
       "      <td>권선오 한의학연 책임연구원 연구팀 한의학에서 가슴이나 배 통증, 구토와 같은 증상을...</td>\n",
       "      <td>[예전엔 지식인들만 글을 썼는데, 이젠 하층민들이 자신이 지식인인 줄 알고 글을 쓴...</td>\n",
       "    </tr>\n",
       "    <tr>\n",
       "      <th>60</th>\n",
       "      <td>복통 치료 쓰던 한약재 ‘초두구’, 코로나19 치료 효과 확인</td>\n",
       "      <td>https://n.news.naver.com/mnews/article/366/000...</td>\n",
       "      <td>권선오 한의학연 책임연구원 연구팀 한의학에서 가슴이나 배 통증, 구토와 같은 증상을...</td>\n",
       "      <td>[예전엔 지식인들만 글을 썼는데, 이젠 하층민들이 자신이 지식인인 줄 알고 글을 쓴...</td>\n",
       "    </tr>\n",
       "    <tr>\n",
       "      <th>61</th>\n",
       "      <td>활기찾은 대학가…코로나19 방역 완화에 매출 ‘껑충’</td>\n",
       "      <td>https://n.news.naver.com/mnews/article/119/000...</td>\n",
       "      <td>신종 코로나바이러스 감염증(코로나19) 방역 완화로 대학교 주변 상권 매출이 크게 ...</td>\n",
       "      <td>[]</td>\n",
       "    </tr>\n",
       "    <tr>\n",
       "      <th>62</th>\n",
       "      <td>코로나 신규확진 1만3596명...금요일 기준 10주만에 최다</td>\n",
       "      <td>https://n.news.naver.com/mnews/article/584/000...</td>\n",
       "      <td>신종 코로나바이러스 감염증(COVID-19·코로나19) 신규 확진자가 21일 1만3...</td>\n",
       "      <td>[]</td>\n",
       "    </tr>\n",
       "  </tbody>\n",
       "</table>\n",
       "<p>63 rows × 4 columns</p>\n",
       "</div>"
      ],
      "text/plain": [
       "                                    제목   \n",
       "0        곧 5월인데 독감·감기 동시 유행…코로나 환자도 늘어  \\\n",
       "1    봄철 독감 유행 · 감기 환자도↑…코로나19 방역 완화 영향   \n",
       "2       눈병인 줄 알았더니 코로나라고?…새 변이가 무서운 이유   \n",
       "3       눈병인 줄 알았더니 코로나라고?…새 변이가 무서운 이유   \n",
       "4       눈병인 줄 알았더니 코로나라고?…새 변이가 무서운 이유   \n",
       "..                                 ...   \n",
       "58  복통 치료 쓰던 한약재 ‘초두구’, 코로나19 치료 효과 확인   \n",
       "59  복통 치료 쓰던 한약재 ‘초두구’, 코로나19 치료 효과 확인   \n",
       "60  복통 치료 쓰던 한약재 ‘초두구’, 코로나19 치료 효과 확인   \n",
       "61       활기찾은 대학가…코로나19 방역 완화에 매출 ‘껑충’   \n",
       "62  코로나 신규확진 1만3596명...금요일 기준 10주만에 최다   \n",
       "\n",
       "                                                   링크   \n",
       "0   https://n.news.naver.com/mnews/article/277/000...  \\\n",
       "1   https://n.news.naver.com/mnews/article/055/000...   \n",
       "2   https://n.news.naver.com/mnews/article/015/000...   \n",
       "3   https://n.news.naver.com/mnews/article/015/000...   \n",
       "4   https://n.news.naver.com/mnews/article/015/000...   \n",
       "..                                                ...   \n",
       "58  https://n.news.naver.com/mnews/article/366/000...   \n",
       "59  https://n.news.naver.com/mnews/article/366/000...   \n",
       "60  https://n.news.naver.com/mnews/article/366/000...   \n",
       "61  https://n.news.naver.com/mnews/article/119/000...   \n",
       "62  https://n.news.naver.com/mnews/article/584/000...   \n",
       "\n",
       "                                                본문 요약   \n",
       "0   특히 코로나19 시대 마스크 착용으로 각종 호흡기 바이러스에 대한 면역이 떨어진 영...  \\\n",
       "1   감기 환자도 계속 늘고 있는데, 방역 당국은 코로나19 방역 조치가 완화된 영향으로...   \n",
       "2   기존 코로나19 오미크론 하위 변이보다 전염성이 강한 새로운 오미크론 하위 변이가 ...   \n",
       "3   기존 코로나19 오미크론 하위 변이보다 전염성이 강한 새로운 오미크론 하위 변이가 ...   \n",
       "4   기존 코로나19 오미크론 하위 변이보다 전염성이 강한 새로운 오미크론 하위 변이가 ...   \n",
       "..                                                ...   \n",
       "58  권선오 한의학연 책임연구원 연구팀 한의학에서 가슴이나 배 통증, 구토와 같은 증상을...   \n",
       "59  권선오 한의학연 책임연구원 연구팀 한의학에서 가슴이나 배 통증, 구토와 같은 증상을...   \n",
       "60  권선오 한의학연 책임연구원 연구팀 한의학에서 가슴이나 배 통증, 구토와 같은 증상을...   \n",
       "61  신종 코로나바이러스 감염증(코로나19) 방역 완화로 대학교 주변 상권 매출이 크게 ...   \n",
       "62  신종 코로나바이러스 감염증(COVID-19·코로나19) 신규 확진자가 21일 1만3...   \n",
       "\n",
       "                                                   댓글  \n",
       "0                                                  []  \n",
       "1                                                  []  \n",
       "2                                                  []  \n",
       "3   [목에 칼이 들어와도 백신은 사양합니다~~, 요즘도 코로나로 겁주는 기자가 존재하는...  \n",
       "4   [목에 칼이 들어와도 백신은 사양합니다~~, 요즘도 코로나로 겁주는 기자가 존재하는...  \n",
       "..                                                ...  \n",
       "58  [예전엔 지식인들만 글을 썼는데, 이젠 하층민들이 자신이 지식인인 줄 알고 글을 쓴...  \n",
       "59  [예전엔 지식인들만 글을 썼는데, 이젠 하층민들이 자신이 지식인인 줄 알고 글을 쓴...  \n",
       "60  [예전엔 지식인들만 글을 썼는데, 이젠 하층민들이 자신이 지식인인 줄 알고 글을 쓴...  \n",
       "61                                                 []  \n",
       "62                                                 []  \n",
       "\n",
       "[63 rows x 4 columns]"
      ]
     },
     "execution_count": 196,
     "metadata": {},
     "output_type": "execute_result"
    }
   ],
   "source": [
    "df = pd.DataFrame(news_dict).T\n",
    "df"
   ]
  },
  {
   "cell_type": "code",
   "execution_count": null,
   "metadata": {},
   "outputs": [],
   "source": []
  }
 ],
 "metadata": {
  "kernelspec": {
   "display_name": "base",
   "language": "python",
   "name": "python3"
  },
  "language_info": {
   "codemirror_mode": {
    "name": "ipython",
    "version": 3
   },
   "file_extension": ".py",
   "mimetype": "text/x-python",
   "name": "python",
   "nbconvert_exporter": "python",
   "pygments_lexer": "ipython3",
   "version": "3.9.13"
  },
  "orig_nbformat": 4
 },
 "nbformat": 4,
 "nbformat_minor": 2
}
