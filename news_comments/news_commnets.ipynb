{
 "cells": [
  {
   "cell_type": "code",
   "execution_count": 333,
   "metadata": {},
   "outputs": [],
   "source": [
    "import pandas as pd\n",
    "import requests\n",
    "from bs4 import BeautifulSoup \n",
    "import re\n",
    "from datetime import datetime\n",
    "import os\n",
    "from selenium import webdriver\n",
    "import time\n",
    "from selenium.webdriver.common.by import By\n",
    "from selenium.webdriver.chrome.service import Service\n",
    "from webdriver_manager.chrome import ChromeDriverManager"
   ]
  },
  {
   "cell_type": "code",
   "execution_count": 334,
   "metadata": {},
   "outputs": [],
   "source": [
    "headers = {'user-agent' : 'Mozilla/5.0 (Windows NT 10.0; Win64; x64) AppleWebKit/537.36 (KHTML, like Gecko) Chrome/112.0.0.0 Safari/537.36'}"
   ]
  },
  {
   "attachments": {},
   "cell_type": "markdown",
   "metadata": {},
   "source": [
    "## 변수 설정"
   ]
  },
  {
   "cell_type": "code",
   "execution_count": 335,
   "metadata": {},
   "outputs": [],
   "source": [
    "query = input(\"검색어를 입력하세요 : \")\n",
    "news_num = int(input(\"크롤링할 기사 개수를 입력하세요 : \"))"
   ]
  },
  {
   "cell_type": "code",
   "execution_count": 336,
   "metadata": {},
   "outputs": [
    {
     "name": "stdout",
     "output_type": "stream",
     "text": [
      "코로나 , 10\n"
     ]
    }
   ],
   "source": [
    "print(query, ',' ,news_num)"
   ]
  },
  {
   "attachments": {},
   "cell_type": "markdown",
   "metadata": {},
   "source": [
    "## 페이지 읽어오기"
   ]
  },
  {
   "cell_type": "code",
   "execution_count": 337,
   "metadata": {},
   "outputs": [],
   "source": [
    "base_url = f'https://search.naver.com/search.naver?where=news&sm=tab_jum&query={query}'"
   ]
  },
  {
   "cell_type": "code",
   "execution_count": 338,
   "metadata": {},
   "outputs": [],
   "source": [
    "news_dict = {}\n",
    "idx = 0\n",
    "page = 1\n",
    "contents = []"
   ]
  },
  {
   "cell_type": "code",
   "execution_count": 339,
   "metadata": {},
   "outputs": [],
   "source": [
    "response = requests.get(base_url)\n",
    "html = response.text\n",
    "soup = BeautifulSoup(html, 'html.parser')"
   ]
  },
  {
   "cell_type": "code",
   "execution_count": 351,
   "metadata": {},
   "outputs": [
    {
     "name": "stdout",
     "output_type": "stream",
     "text": [
      "https://n.news.naver.com/mnews/article/001/0013893547?sid=104\n",
      "https://n.news.naver.com/mnews/article/366/0000895136?sid=105\n",
      "https://n.news.naver.com/mnews/article/015/0004835101?sid=101\n",
      "https://n.news.naver.com/mnews/article/023/0003758960?sid=101\n",
      "https://n.news.naver.com/mnews/article/052/0001874974?sid=104\n",
      "https://n.news.naver.com/mnews/article/003/0011811429?sid=100\n",
      "https://n.news.naver.com/mnews/article/047/0002389428?sid=102\n",
      "https://n.news.naver.com/mnews/article/023/0003758681?sid=101\n",
      "https://n.news.naver.com/mnews/article/029/0002795814?sid=101\n",
      "https://n.news.naver.com/mnews/article/584/0000022745?sid=103\n"
     ]
    }
   ],
   "source": [
    "for info in soup.select('a.info') :\n",
    "    if info.text == '네이버뉴스' :\n",
    "        print(info['href'])"
   ]
  },
  {
   "cell_type": "code",
   "execution_count": 341,
   "metadata": {},
   "outputs": [
    {
     "name": "stdout",
     "output_type": "stream",
     "text": [
      "기사 수집 중입니다.\n"
     ]
    },
    {
     "name": "stderr",
     "output_type": "stream",
     "text": [
      "C:\\Users\\Playdata\\AppData\\Local\\Temp\\ipykernel_11292\\1273187364.py:16: DeprecationWarning: executable_path has been deprecated, please pass in a Service object\n",
      "  driver = webdriver.Chrome('chromedriver.exe')\n"
     ]
    },
    {
     "ename": "ElementNotInteractableException",
     "evalue": "Message: element not interactable\n  (Session info: chrome=112.0.5615.137)\nStacktrace:\nBacktrace:\n\tGetHandleVerifier [0x00B0DCE3+50899]\n\t(No symbol) [0x00A9E111]\n\t(No symbol) [0x009A5450]\n\t(No symbol) [0x009D1846]\n\t(No symbol) [0x009C94A5]\n\t(No symbol) [0x009EB8FC]\n\t(No symbol) [0x009C8EC6]\n\t(No symbol) [0x009EBC54]\n\t(No symbol) [0x009FE01C]\n\t(No symbol) [0x009EB6F6]\n\t(No symbol) [0x009C7708]\n\t(No symbol) [0x009C886D]\n\tGetHandleVerifier [0x00D73EAE+2566302]\n\tGetHandleVerifier [0x00DA92B1+2784417]\n\tGetHandleVerifier [0x00DA327C+2759788]\n\tGetHandleVerifier [0x00BA5740+672048]\n\t(No symbol) [0x00AA8872]\n\t(No symbol) [0x00AA41C8]\n\t(No symbol) [0x00AA42AB]\n\t(No symbol) [0x00A971B7]\n\tBaseThreadInitThunk [0x75E97D49+25]\n\tRtlInitializeExceptionChain [0x770CB74B+107]\n\tRtlClearBits [0x770CB6CF+191]\n",
     "output_type": "error",
     "traceback": [
      "\u001b[1;31m---------------------------------------------------------------------------\u001b[0m",
      "\u001b[1;31mElementNotInteractableException\u001b[0m           Traceback (most recent call last)",
      "\u001b[1;32m~\\AppData\\Local\\Temp\\ipykernel_11292\\1273187364.py\u001b[0m in \u001b[0;36m<module>\u001b[1;34m\u001b[0m\n\u001b[0;32m     17\u001b[0m             \u001b[0mdriver\u001b[0m\u001b[1;33m.\u001b[0m\u001b[0mget\u001b[0m\u001b[1;33m(\u001b[0m\u001b[0mlink\u001b[0m\u001b[1;33m)\u001b[0m\u001b[1;33m\u001b[0m\u001b[1;33m\u001b[0m\u001b[0m\n\u001b[0;32m     18\u001b[0m             \u001b[0mtime\u001b[0m\u001b[1;33m.\u001b[0m\u001b[0msleep\u001b[0m\u001b[1;33m(\u001b[0m\u001b[1;36m3\u001b[0m\u001b[1;33m)\u001b[0m\u001b[1;33m\u001b[0m\u001b[1;33m\u001b[0m\u001b[0m\n\u001b[1;32m---> 19\u001b[1;33m             \u001b[0mdriver\u001b[0m\u001b[1;33m.\u001b[0m\u001b[0mfind_element\u001b[0m\u001b[1;33m(\u001b[0m\u001b[0mBy\u001b[0m\u001b[1;33m.\u001b[0m\u001b[0mXPATH\u001b[0m\u001b[1;33m,\u001b[0m \u001b[1;34m'.//*[@id=\"cbox_module\"]/div[2]/div[9]/a/span[1]'\u001b[0m\u001b[1;33m)\u001b[0m\u001b[1;33m.\u001b[0m\u001b[0mclick\u001b[0m\u001b[1;33m(\u001b[0m\u001b[1;33m)\u001b[0m\u001b[1;33m\u001b[0m\u001b[1;33m\u001b[0m\u001b[0m\n\u001b[0m\u001b[0;32m     20\u001b[0m \u001b[1;33m\u001b[0m\u001b[0m\n\u001b[0;32m     21\u001b[0m             \u001b[0mhtml2\u001b[0m \u001b[1;33m=\u001b[0m \u001b[0mdriver\u001b[0m\u001b[1;33m.\u001b[0m\u001b[0mpage_source\u001b[0m\u001b[1;33m\u001b[0m\u001b[1;33m\u001b[0m\u001b[0m\n",
      "\u001b[1;32mc:\\Users\\Playdata\\anaconda3\\lib\\site-packages\\selenium\\webdriver\\remote\\webelement.py\u001b[0m in \u001b[0;36mclick\u001b[1;34m(self)\u001b[0m\n\u001b[0;32m     91\u001b[0m             \u001b[0mself\u001b[0m\u001b[1;33m.\u001b[0m\u001b[0m_execute\u001b[0m\u001b[1;33m(\u001b[0m\u001b[0mCommand\u001b[0m\u001b[1;33m.\u001b[0m\u001b[0mSUBMIT_ELEMENT\u001b[0m\u001b[1;33m)\u001b[0m\u001b[1;33m\u001b[0m\u001b[1;33m\u001b[0m\u001b[0m\n\u001b[0;32m     92\u001b[0m \u001b[1;33m\u001b[0m\u001b[0m\n\u001b[1;32m---> 93\u001b[1;33m     \u001b[1;32mdef\u001b[0m \u001b[0mclear\u001b[0m\u001b[1;33m(\u001b[0m\u001b[0mself\u001b[0m\u001b[1;33m)\u001b[0m\u001b[1;33m:\u001b[0m\u001b[1;33m\u001b[0m\u001b[1;33m\u001b[0m\u001b[0m\n\u001b[0m\u001b[0;32m     94\u001b[0m         \u001b[1;34m\"\"\"Clears the text if it's a text entry element.\"\"\"\u001b[0m\u001b[1;33m\u001b[0m\u001b[1;33m\u001b[0m\u001b[0m\n\u001b[0;32m     95\u001b[0m         \u001b[0mself\u001b[0m\u001b[1;33m.\u001b[0m\u001b[0m_execute\u001b[0m\u001b[1;33m(\u001b[0m\u001b[0mCommand\u001b[0m\u001b[1;33m.\u001b[0m\u001b[0mCLEAR_ELEMENT\u001b[0m\u001b[1;33m)\u001b[0m\u001b[1;33m\u001b[0m\u001b[1;33m\u001b[0m\u001b[0m\n",
      "\u001b[1;32mc:\\Users\\Playdata\\anaconda3\\lib\\site-packages\\selenium\\webdriver\\remote\\webelement.py\u001b[0m in \u001b[0;36m_execute\u001b[1;34m(self, command, params)\u001b[0m\n\u001b[0;32m    401\u001b[0m         \"\"\"Finds a list of elements within this element's children by class name.\n\u001b[0;32m    402\u001b[0m \u001b[1;33m\u001b[0m\u001b[0m\n\u001b[1;32m--> 403\u001b[1;33m         \u001b[1;33m:\u001b[0m\u001b[0mArgs\u001b[0m\u001b[1;33m:\u001b[0m\u001b[1;33m\u001b[0m\u001b[1;33m\u001b[0m\u001b[0m\n\u001b[0m\u001b[0;32m    404\u001b[0m          \u001b[1;33m-\u001b[0m \u001b[0mname\u001b[0m\u001b[1;33m:\u001b[0m \u001b[0mThe\u001b[0m \u001b[1;32mclass\u001b[0m \u001b[0mname\u001b[0m \u001b[0mof\u001b[0m \u001b[0mthe\u001b[0m \u001b[0melements\u001b[0m \u001b[0mto\u001b[0m \u001b[0mfind\u001b[0m\u001b[1;33m.\u001b[0m\u001b[1;33m\u001b[0m\u001b[1;33m\u001b[0m\u001b[0m\n\u001b[0;32m    405\u001b[0m \u001b[1;33m\u001b[0m\u001b[0m\n",
      "\u001b[1;32mc:\\Users\\Playdata\\anaconda3\\lib\\site-packages\\selenium\\webdriver\\remote\\webdriver.py\u001b[0m in \u001b[0;36mexecute\u001b[1;34m(self, driver_command, params)\u001b[0m\n\u001b[0;32m    438\u001b[0m          \u001b[1;33m-\u001b[0m \u001b[0mlist\u001b[0m \u001b[0mof\u001b[0m \u001b[0mwebelement\u001b[0m \u001b[1;33m-\u001b[0m \u001b[0ma\u001b[0m \u001b[0mlist\u001b[0m \u001b[1;32mwith\u001b[0m \u001b[0melements\u001b[0m \u001b[1;32mif\u001b[0m \u001b[0many\u001b[0m \u001b[0mwas\u001b[0m \u001b[0mfound\u001b[0m\u001b[1;33m.\u001b[0m  \u001b[0man\u001b[0m\u001b[1;33m\u001b[0m\u001b[1;33m\u001b[0m\u001b[0m\n\u001b[0;32m    439\u001b[0m            \u001b[0mempty\u001b[0m \u001b[0mlist\u001b[0m \u001b[1;32mif\u001b[0m \u001b[1;32mnot\u001b[0m\u001b[1;33m\u001b[0m\u001b[1;33m\u001b[0m\u001b[0m\n\u001b[1;32m--> 440\u001b[1;33m \u001b[1;33m\u001b[0m\u001b[0m\n\u001b[0m\u001b[0;32m    441\u001b[0m         \u001b[1;33m:\u001b[0m\u001b[0mUsage\u001b[0m\u001b[1;33m:\u001b[0m\u001b[1;33m\u001b[0m\u001b[1;33m\u001b[0m\u001b[0m\n\u001b[0;32m    442\u001b[0m             \u001b[0melements\u001b[0m \u001b[1;33m=\u001b[0m \u001b[0mdriver\u001b[0m\u001b[1;33m.\u001b[0m\u001b[0mfind_elements_by_link_text\u001b[0m\u001b[1;33m(\u001b[0m\u001b[1;34m'Sign In'\u001b[0m\u001b[1;33m)\u001b[0m\u001b[1;33m\u001b[0m\u001b[1;33m\u001b[0m\u001b[0m\n",
      "\u001b[1;32mc:\\Users\\Playdata\\anaconda3\\lib\\site-packages\\selenium\\webdriver\\remote\\errorhandler.py\u001b[0m in \u001b[0;36mcheck_response\u001b[1;34m(self, response)\u001b[0m\n\u001b[0;32m    243\u001b[0m \u001b[1;33m\u001b[0m\u001b[0m\n\u001b[0;32m    244\u001b[0m     \u001b[1;32mdef\u001b[0m \u001b[0m_value_or_default\u001b[0m\u001b[1;33m(\u001b[0m\u001b[0mself\u001b[0m\u001b[1;33m,\u001b[0m \u001b[0mobj\u001b[0m\u001b[1;33m,\u001b[0m \u001b[0mkey\u001b[0m\u001b[1;33m,\u001b[0m \u001b[0mdefault\u001b[0m\u001b[1;33m)\u001b[0m\u001b[1;33m:\u001b[0m\u001b[1;33m\u001b[0m\u001b[1;33m\u001b[0m\u001b[0m\n\u001b[1;32m--> 245\u001b[1;33m         \u001b[1;32mreturn\u001b[0m \u001b[0mobj\u001b[0m\u001b[1;33m[\u001b[0m\u001b[0mkey\u001b[0m\u001b[1;33m]\u001b[0m \u001b[1;32mif\u001b[0m \u001b[0mkey\u001b[0m \u001b[1;32min\u001b[0m \u001b[0mobj\u001b[0m \u001b[1;32melse\u001b[0m \u001b[0mdefault\u001b[0m\u001b[1;33m\u001b[0m\u001b[1;33m\u001b[0m\u001b[0m\n\u001b[0m",
      "\u001b[1;31mElementNotInteractableException\u001b[0m: Message: element not interactable\n  (Session info: chrome=112.0.5615.137)\nStacktrace:\nBacktrace:\n\tGetHandleVerifier [0x00B0DCE3+50899]\n\t(No symbol) [0x00A9E111]\n\t(No symbol) [0x009A5450]\n\t(No symbol) [0x009D1846]\n\t(No symbol) [0x009C94A5]\n\t(No symbol) [0x009EB8FC]\n\t(No symbol) [0x009C8EC6]\n\t(No symbol) [0x009EBC54]\n\t(No symbol) [0x009FE01C]\n\t(No symbol) [0x009EB6F6]\n\t(No symbol) [0x009C7708]\n\t(No symbol) [0x009C886D]\n\tGetHandleVerifier [0x00D73EAE+2566302]\n\tGetHandleVerifier [0x00DA92B1+2784417]\n\tGetHandleVerifier [0x00DA327C+2759788]\n\tGetHandleVerifier [0x00BA5740+672048]\n\t(No symbol) [0x00AA8872]\n\t(No symbol) [0x00AA41C8]\n\t(No symbol) [0x00AA42AB]\n\t(No symbol) [0x00A971B7]\n\tBaseThreadInitThunk [0x75E97D49+25]\n\tRtlInitializeExceptionChain [0x770CB74B+107]\n\tRtlClearBits [0x770CB6CF+191]\n"
     ]
    }
   ],
   "source": [
    "print('기사 수집 중입니다.')\n",
    "while idx < news_num :   \n",
    "    \n",
    "    response = requests.get(base_url)\n",
    "    html = response.text\n",
    "    soup = BeautifulSoup(html, 'html.parser')\n",
    "    news_list = soup.select('div.news_area')\n",
    "    next_page = soup.select('div.sc_page_inner > a.btn')\n",
    "\n",
    "    for news in news_list :\n",
    "        if news.select('a.info')[-1].text == '네이버뉴스' :\n",
    "            link = news.select('a.info')[-1]['href']\n",
    "            title = news.select_one('a.news_tit').text\n",
    "            text = news.select_one('a.api_txt_lines.dsc_txt_wrap').text\n",
    "            count = news.find(\"span\", {\"class\" : \"u_cbox_info_txt\"}).get_text()\n",
    "\n",
    "            driver = webdriver.Chrome('chromedriver.exe')\n",
    "            driver.get(link)\n",
    "            time.sleep(3)\n",
    "            driver.find_element(By.XPATH, './/*[@id=\"cbox_module\"]/div[2]/div[9]/a/span[1]').click()\n",
    "            html2 = driver.page_source\n",
    "            soup2 = BeautifulSoup(html2, 'lxml')\n",
    "            comment_list = soup2.find_all(\"span\", {'class' : \"u_cbox_contents\"})\n",
    "\n",
    "            for comment in comment_list :\n",
    "                comment = comment.text\n",
    "                contents.append(comment)\n",
    "\n",
    "            news_dict[idx] = {'제목' : title, '링크' : link, '본문 요약' : text, '댓글' : contents}\n",
    "            idx += 1\n",
    "        else :\n",
    "            continue\n",
    "\n",
    "    page += 1\n",
    "    \n",
    "    for p in next_page :\n",
    "        if p.text == str(page) :\n",
    "            news_url = f'https://search.naver.com/search.naver' + p['href']\n",
    "\n",
    "print('크롤링이 완료되었습니다.')"
   ]
  },
  {
   "cell_type": "code",
   "execution_count": null,
   "metadata": {},
   "outputs": [],
   "source": [
    "df = pd.DataFrame(news_dict).T\n",
    "df"
   ]
  },
  {
   "cell_type": "code",
   "execution_count": null,
   "metadata": {},
   "outputs": [],
   "source": []
  }
 ],
 "metadata": {
  "kernelspec": {
   "display_name": "base",
   "language": "python",
   "name": "python3"
  },
  "language_info": {
   "codemirror_mode": {
    "name": "ipython",
    "version": 3
   },
   "file_extension": ".py",
   "mimetype": "text/x-python",
   "name": "python",
   "nbconvert_exporter": "python",
   "pygments_lexer": "ipython3",
   "version": "3.9.13"
  },
  "orig_nbformat": 4
 },
 "nbformat": 4,
 "nbformat_minor": 2
}
